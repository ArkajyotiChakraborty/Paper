{
  "nbformat": 4,
  "nbformat_minor": 0,
  "metadata": {
    "colab": {
      "name": "CNN+LSTM.ipynb",
      "provenance": []
    },
    "kernelspec": {
      "name": "python3",
      "display_name": "Python 3"
    },
    "language_info": {
      "name": "python"
    }
  },
  "cells": [
    {
      "cell_type": "code",
      "metadata": {
        "colab": {
          "base_uri": "https://localhost:8080/",
          "height": 17
        },
        "id": "xMooDibzFWOe",
        "outputId": "4795f97a-dd91-4d7f-ee0e-0777d1308102"
      },
      "source": [
        "from keras.preprocessing.text import Tokenizer\n",
        "from keras.preprocessing.sequence import pad_sequences\n",
        "from keras.models import Sequential\n",
        "from keras.layers import Dense, Flatten, LSTM, Conv1D, MaxPooling1D, Dropout, Activation\n",
        "from keras.layers.embeddings import Embedding\n",
        "\n",
        "## Plot\n",
        "import plotly.offline as py\n",
        "import plotly.graph_objs as go\n",
        "py.init_notebook_mode(connected=True)\n",
        "import matplotlib as plt\n",
        "\n",
        "# NLTK\n",
        "import nltk\n",
        "from nltk.corpus import stopwords\n",
        "from nltk.stem import SnowballStemmer\n",
        "\n",
        "# Other\n",
        "import re\n",
        "import string\n",
        "import numpy as np\n",
        "import pandas as pd\n",
        "from sklearn.manifold import TSNE"
      ],
      "execution_count": 2,
      "outputs": [
        {
          "output_type": "display_data",
          "data": {
            "text/html": [
              "        <script type=\"text/javascript\">\n",
              "        window.PlotlyConfig = {MathJaxConfig: 'local'};\n",
              "        if (window.MathJax) {MathJax.Hub.Config({SVG: {font: \"STIX-Web\"}});}\n",
              "        if (typeof require !== 'undefined') {\n",
              "        require.undef(\"plotly\");\n",
              "        requirejs.config({\n",
              "            paths: {\n",
              "                'plotly': ['https://cdn.plot.ly/plotly-latest.min']\n",
              "            }\n",
              "        });\n",
              "        require(['plotly'], function(Plotly) {\n",
              "            window._Plotly = Plotly;\n",
              "        });\n",
              "        }\n",
              "        </script>\n",
              "        "
            ]
          },
          "metadata": {}
        }
      ]
    },
    {
      "cell_type": "code",
      "metadata": {
        "colab": {
          "base_uri": "https://localhost:8080/",
          "height": 423
        },
        "id": "57FBLhNwGM4F",
        "outputId": "b15206bc-4cfc-4340-ae46-66ab413889f9"
      },
      "source": [
        "df = pd.read_csv('Processed_Data.csv', engine = 'python')\n",
        "df"
      ],
      "execution_count": 3,
      "outputs": [
        {
          "output_type": "execute_result",
          "data": {
            "text/html": [
              "<div>\n",
              "<style scoped>\n",
              "    .dataframe tbody tr th:only-of-type {\n",
              "        vertical-align: middle;\n",
              "    }\n",
              "\n",
              "    .dataframe tbody tr th {\n",
              "        vertical-align: top;\n",
              "    }\n",
              "\n",
              "    .dataframe thead th {\n",
              "        text-align: right;\n",
              "    }\n",
              "</style>\n",
              "<table border=\"1\" class=\"dataframe\">\n",
              "  <thead>\n",
              "    <tr style=\"text-align: right;\">\n",
              "      <th></th>\n",
              "      <th>Unnamed: 0</th>\n",
              "      <th>topic</th>\n",
              "      <th>tweet</th>\n",
              "      <th>sentiment</th>\n",
              "      <th>class</th>\n",
              "      <th>processed_tweets</th>\n",
              "    </tr>\n",
              "  </thead>\n",
              "  <tbody>\n",
              "    <tr>\n",
              "      <th>0</th>\n",
              "      <td>0</td>\n",
              "      <td>#olympics</td>\n",
              "      <td>Aussies would be happy that the T20 series hap...</td>\n",
              "      <td>0.275</td>\n",
              "      <td>Positive</td>\n",
              "      <td>aussie would happy series happen midst olympic...</td>\n",
              "    </tr>\n",
              "    <tr>\n",
              "      <th>1</th>\n",
              "      <td>1</td>\n",
              "      <td>#olympics</td>\n",
              "      <td>The worst thing about the #Olympics finishing ...</td>\n",
              "      <td>-0.13333333333333333</td>\n",
              "      <td>Negative</td>\n",
              "      <td>worst thing olympics finish whole week availab...</td>\n",
              "    </tr>\n",
              "    <tr>\n",
              "      <th>2</th>\n",
              "      <td>2</td>\n",
              "      <td>#olympics</td>\n",
              "      <td>#Olympics\\n\\nWe play for India: #Hockey captai...</td>\n",
              "      <td>0.0</td>\n",
              "      <td>Neutral</td>\n",
              "      <td>olympics play india hockey captain ranirampal ...</td>\n",
              "    </tr>\n",
              "    <tr>\n",
              "      <th>3</th>\n",
              "      <td>3</td>\n",
              "      <td>#olympics</td>\n",
              "      <td>See the best moments from the #Tokyo2020 closi...</td>\n",
              "      <td>1.0</td>\n",
              "      <td>Positive</td>\n",
              "      <td>see best moment tokyo close ceremony videoelep...</td>\n",
              "    </tr>\n",
              "    <tr>\n",
              "      <th>4</th>\n",
              "      <td>4</td>\n",
              "      <td>#olympics</td>\n",
              "      <td>Fabulous! #Olympics \\n#LoveTheBBC \\n\\nTokyo Ol...</td>\n",
              "      <td>0.5</td>\n",
              "      <td>Positive</td>\n",
              "      <td>fabulous olympics lovethebbc tokyo olympics bb...</td>\n",
              "    </tr>\n",
              "    <tr>\n",
              "      <th>...</th>\n",
              "      <td>...</td>\n",
              "      <td>...</td>\n",
              "      <td>...</td>\n",
              "      <td>...</td>\n",
              "      <td>...</td>\n",
              "      <td>...</td>\n",
              "    </tr>\n",
              "    <tr>\n",
              "      <th>140253</th>\n",
              "      <td>140242</td>\n",
              "      <td>Tokyo olympics</td>\n",
              "      <td>Congratulations to all our winners and partici...</td>\n",
              "      <td>0.5</td>\n",
              "      <td>Positive</td>\n",
              "      <td>congratulation winner participant olympics win...</td>\n",
              "    </tr>\n",
              "    <tr>\n",
              "      <th>140254</th>\n",
              "      <td>140243</td>\n",
              "      <td>Tokyo olympics</td>\n",
              "      <td>I hope that I am wrong but I have seen no twee...</td>\n",
              "      <td>-0.5</td>\n",
              "      <td>Negative</td>\n",
              "      <td>hope wrong see tweet government</td>\n",
              "    </tr>\n",
              "    <tr>\n",
              "      <th>140255</th>\n",
              "      <td>140244</td>\n",
              "      <td>Tokyo olympics</td>\n",
              "      <td>Tokyo passes the baton to Paris as strangest e...</td>\n",
              "      <td>0.0</td>\n",
              "      <td>Neutral</td>\n",
              "      <td>tokyo pass baton paris strangest ever olympic ...</td>\n",
              "    </tr>\n",
              "    <tr>\n",
              "      <th>140256</th>\n",
              "      <td>140245</td>\n",
              "      <td>Tokyo olympics</td>\n",
              "      <td>Paris plans to deliver inclusive, youth-centre...</td>\n",
              "      <td>0.0</td>\n",
              "      <td>Neutral</td>\n",
              "      <td>paris plan deliver inclusive youth centre gend...</td>\n",
              "    </tr>\n",
              "    <tr>\n",
              "      <th>140257</th>\n",
              "      <td>140246</td>\n",
              "      <td>Tokyo olympics</td>\n",
              "      <td>Tokyo Games could yet have positive legacy des...</td>\n",
              "      <td>0.41363636363636364</td>\n",
              "      <td>Positive</td>\n",
              "      <td>tokyo game could yet positive legacy despite u...</td>\n",
              "    </tr>\n",
              "  </tbody>\n",
              "</table>\n",
              "<p>140258 rows × 6 columns</p>\n",
              "</div>"
            ],
            "text/plain": [
              "       Unnamed: 0  ...                                   processed_tweets\n",
              "0               0  ...  aussie would happy series happen midst olympic...\n",
              "1               1  ...  worst thing olympics finish whole week availab...\n",
              "2               2  ...  olympics play india hockey captain ranirampal ...\n",
              "3               3  ...  see best moment tokyo close ceremony videoelep...\n",
              "4               4  ...  fabulous olympics lovethebbc tokyo olympics bb...\n",
              "...           ...  ...                                                ...\n",
              "140253     140242  ...  congratulation winner participant olympics win...\n",
              "140254     140243  ...                    hope wrong see tweet government\n",
              "140255     140244  ...  tokyo pass baton paris strangest ever olympic ...\n",
              "140256     140245  ...  paris plan deliver inclusive youth centre gend...\n",
              "140257     140246  ...  tokyo game could yet positive legacy despite u...\n",
              "\n",
              "[140258 rows x 6 columns]"
            ]
          },
          "metadata": {},
          "execution_count": 3
        }
      ]
    },
    {
      "cell_type": "code",
      "metadata": {
        "colab": {
          "base_uri": "https://localhost:8080/",
          "height": 423
        },
        "id": "grSS8RneIFgv",
        "outputId": "333c2b27-5faa-4fec-9246-6a674967ef94"
      },
      "source": [
        "df = df.dropna()\n",
        "df"
      ],
      "execution_count": 4,
      "outputs": [
        {
          "output_type": "execute_result",
          "data": {
            "text/html": [
              "<div>\n",
              "<style scoped>\n",
              "    .dataframe tbody tr th:only-of-type {\n",
              "        vertical-align: middle;\n",
              "    }\n",
              "\n",
              "    .dataframe tbody tr th {\n",
              "        vertical-align: top;\n",
              "    }\n",
              "\n",
              "    .dataframe thead th {\n",
              "        text-align: right;\n",
              "    }\n",
              "</style>\n",
              "<table border=\"1\" class=\"dataframe\">\n",
              "  <thead>\n",
              "    <tr style=\"text-align: right;\">\n",
              "      <th></th>\n",
              "      <th>Unnamed: 0</th>\n",
              "      <th>topic</th>\n",
              "      <th>tweet</th>\n",
              "      <th>sentiment</th>\n",
              "      <th>class</th>\n",
              "      <th>processed_tweets</th>\n",
              "    </tr>\n",
              "  </thead>\n",
              "  <tbody>\n",
              "    <tr>\n",
              "      <th>0</th>\n",
              "      <td>0</td>\n",
              "      <td>#olympics</td>\n",
              "      <td>Aussies would be happy that the T20 series hap...</td>\n",
              "      <td>0.275</td>\n",
              "      <td>Positive</td>\n",
              "      <td>aussie would happy series happen midst olympic...</td>\n",
              "    </tr>\n",
              "    <tr>\n",
              "      <th>1</th>\n",
              "      <td>1</td>\n",
              "      <td>#olympics</td>\n",
              "      <td>The worst thing about the #Olympics finishing ...</td>\n",
              "      <td>-0.13333333333333333</td>\n",
              "      <td>Negative</td>\n",
              "      <td>worst thing olympics finish whole week availab...</td>\n",
              "    </tr>\n",
              "    <tr>\n",
              "      <th>2</th>\n",
              "      <td>2</td>\n",
              "      <td>#olympics</td>\n",
              "      <td>#Olympics\\n\\nWe play for India: #Hockey captai...</td>\n",
              "      <td>0.0</td>\n",
              "      <td>Neutral</td>\n",
              "      <td>olympics play india hockey captain ranirampal ...</td>\n",
              "    </tr>\n",
              "    <tr>\n",
              "      <th>3</th>\n",
              "      <td>3</td>\n",
              "      <td>#olympics</td>\n",
              "      <td>See the best moments from the #Tokyo2020 closi...</td>\n",
              "      <td>1.0</td>\n",
              "      <td>Positive</td>\n",
              "      <td>see best moment tokyo close ceremony videoelep...</td>\n",
              "    </tr>\n",
              "    <tr>\n",
              "      <th>4</th>\n",
              "      <td>4</td>\n",
              "      <td>#olympics</td>\n",
              "      <td>Fabulous! #Olympics \\n#LoveTheBBC \\n\\nTokyo Ol...</td>\n",
              "      <td>0.5</td>\n",
              "      <td>Positive</td>\n",
              "      <td>fabulous olympics lovethebbc tokyo olympics bb...</td>\n",
              "    </tr>\n",
              "    <tr>\n",
              "      <th>...</th>\n",
              "      <td>...</td>\n",
              "      <td>...</td>\n",
              "      <td>...</td>\n",
              "      <td>...</td>\n",
              "      <td>...</td>\n",
              "      <td>...</td>\n",
              "    </tr>\n",
              "    <tr>\n",
              "      <th>140253</th>\n",
              "      <td>140242</td>\n",
              "      <td>Tokyo olympics</td>\n",
              "      <td>Congratulations to all our winners and partici...</td>\n",
              "      <td>0.5</td>\n",
              "      <td>Positive</td>\n",
              "      <td>congratulation winner participant olympics win...</td>\n",
              "    </tr>\n",
              "    <tr>\n",
              "      <th>140254</th>\n",
              "      <td>140243</td>\n",
              "      <td>Tokyo olympics</td>\n",
              "      <td>I hope that I am wrong but I have seen no twee...</td>\n",
              "      <td>-0.5</td>\n",
              "      <td>Negative</td>\n",
              "      <td>hope wrong see tweet government</td>\n",
              "    </tr>\n",
              "    <tr>\n",
              "      <th>140255</th>\n",
              "      <td>140244</td>\n",
              "      <td>Tokyo olympics</td>\n",
              "      <td>Tokyo passes the baton to Paris as strangest e...</td>\n",
              "      <td>0.0</td>\n",
              "      <td>Neutral</td>\n",
              "      <td>tokyo pass baton paris strangest ever olympic ...</td>\n",
              "    </tr>\n",
              "    <tr>\n",
              "      <th>140256</th>\n",
              "      <td>140245</td>\n",
              "      <td>Tokyo olympics</td>\n",
              "      <td>Paris plans to deliver inclusive, youth-centre...</td>\n",
              "      <td>0.0</td>\n",
              "      <td>Neutral</td>\n",
              "      <td>paris plan deliver inclusive youth centre gend...</td>\n",
              "    </tr>\n",
              "    <tr>\n",
              "      <th>140257</th>\n",
              "      <td>140246</td>\n",
              "      <td>Tokyo olympics</td>\n",
              "      <td>Tokyo Games could yet have positive legacy des...</td>\n",
              "      <td>0.41363636363636364</td>\n",
              "      <td>Positive</td>\n",
              "      <td>tokyo game could yet positive legacy despite u...</td>\n",
              "    </tr>\n",
              "  </tbody>\n",
              "</table>\n",
              "<p>139707 rows × 6 columns</p>\n",
              "</div>"
            ],
            "text/plain": [
              "       Unnamed: 0  ...                                   processed_tweets\n",
              "0               0  ...  aussie would happy series happen midst olympic...\n",
              "1               1  ...  worst thing olympics finish whole week availab...\n",
              "2               2  ...  olympics play india hockey captain ranirampal ...\n",
              "3               3  ...  see best moment tokyo close ceremony videoelep...\n",
              "4               4  ...  fabulous olympics lovethebbc tokyo olympics bb...\n",
              "...           ...  ...                                                ...\n",
              "140253     140242  ...  congratulation winner participant olympics win...\n",
              "140254     140243  ...                    hope wrong see tweet government\n",
              "140255     140244  ...  tokyo pass baton paris strangest ever olympic ...\n",
              "140256     140245  ...  paris plan deliver inclusive youth centre gend...\n",
              "140257     140246  ...  tokyo game could yet positive legacy despite u...\n",
              "\n",
              "[139707 rows x 6 columns]"
            ]
          },
          "metadata": {},
          "execution_count": 4
        }
      ]
    },
    {
      "cell_type": "code",
      "metadata": {
        "id": "wtE_eMA4PaD0"
      },
      "source": [
        "def ratio(x):\n",
        "  if x=='Positive':\n",
        "    return 1\n",
        "  elif x=='Negative':\n",
        "    return 2\n",
        "  else:\n",
        "    return 0;"
      ],
      "execution_count": 5,
      "outputs": []
    },
    {
      "cell_type": "code",
      "metadata": {
        "colab": {
          "base_uri": "https://localhost:8080/",
          "height": 352
        },
        "id": "hIN2qcEOPdRJ",
        "outputId": "96bc78c0-26e1-49b5-fcb3-c82e33f3490f"
      },
      "source": [
        "df['label'] = df['class'].apply(ratio)\n",
        "df.head()"
      ],
      "execution_count": 6,
      "outputs": [
        {
          "output_type": "stream",
          "name": "stderr",
          "text": [
            "/usr/local/lib/python3.7/dist-packages/ipykernel_launcher.py:1: SettingWithCopyWarning:\n",
            "\n",
            "\n",
            "A value is trying to be set on a copy of a slice from a DataFrame.\n",
            "Try using .loc[row_indexer,col_indexer] = value instead\n",
            "\n",
            "See the caveats in the documentation: https://pandas.pydata.org/pandas-docs/stable/user_guide/indexing.html#returning-a-view-versus-a-copy\n",
            "\n"
          ]
        },
        {
          "output_type": "execute_result",
          "data": {
            "text/html": [
              "<div>\n",
              "<style scoped>\n",
              "    .dataframe tbody tr th:only-of-type {\n",
              "        vertical-align: middle;\n",
              "    }\n",
              "\n",
              "    .dataframe tbody tr th {\n",
              "        vertical-align: top;\n",
              "    }\n",
              "\n",
              "    .dataframe thead th {\n",
              "        text-align: right;\n",
              "    }\n",
              "</style>\n",
              "<table border=\"1\" class=\"dataframe\">\n",
              "  <thead>\n",
              "    <tr style=\"text-align: right;\">\n",
              "      <th></th>\n",
              "      <th>Unnamed: 0</th>\n",
              "      <th>topic</th>\n",
              "      <th>tweet</th>\n",
              "      <th>sentiment</th>\n",
              "      <th>class</th>\n",
              "      <th>processed_tweets</th>\n",
              "      <th>label</th>\n",
              "    </tr>\n",
              "  </thead>\n",
              "  <tbody>\n",
              "    <tr>\n",
              "      <th>0</th>\n",
              "      <td>0</td>\n",
              "      <td>#olympics</td>\n",
              "      <td>Aussies would be happy that the T20 series hap...</td>\n",
              "      <td>0.275</td>\n",
              "      <td>Positive</td>\n",
              "      <td>aussie would happy series happen midst olympic...</td>\n",
              "      <td>1</td>\n",
              "    </tr>\n",
              "    <tr>\n",
              "      <th>1</th>\n",
              "      <td>1</td>\n",
              "      <td>#olympics</td>\n",
              "      <td>The worst thing about the #Olympics finishing ...</td>\n",
              "      <td>-0.13333333333333333</td>\n",
              "      <td>Negative</td>\n",
              "      <td>worst thing olympics finish whole week availab...</td>\n",
              "      <td>2</td>\n",
              "    </tr>\n",
              "    <tr>\n",
              "      <th>2</th>\n",
              "      <td>2</td>\n",
              "      <td>#olympics</td>\n",
              "      <td>#Olympics\\n\\nWe play for India: #Hockey captai...</td>\n",
              "      <td>0.0</td>\n",
              "      <td>Neutral</td>\n",
              "      <td>olympics play india hockey captain ranirampal ...</td>\n",
              "      <td>0</td>\n",
              "    </tr>\n",
              "    <tr>\n",
              "      <th>3</th>\n",
              "      <td>3</td>\n",
              "      <td>#olympics</td>\n",
              "      <td>See the best moments from the #Tokyo2020 closi...</td>\n",
              "      <td>1.0</td>\n",
              "      <td>Positive</td>\n",
              "      <td>see best moment tokyo close ceremony videoelep...</td>\n",
              "      <td>1</td>\n",
              "    </tr>\n",
              "    <tr>\n",
              "      <th>4</th>\n",
              "      <td>4</td>\n",
              "      <td>#olympics</td>\n",
              "      <td>Fabulous! #Olympics \\n#LoveTheBBC \\n\\nTokyo Ol...</td>\n",
              "      <td>0.5</td>\n",
              "      <td>Positive</td>\n",
              "      <td>fabulous olympics lovethebbc tokyo olympics bb...</td>\n",
              "      <td>1</td>\n",
              "    </tr>\n",
              "  </tbody>\n",
              "</table>\n",
              "</div>"
            ],
            "text/plain": [
              "  Unnamed: 0  ... label\n",
              "0          0  ...     1\n",
              "1          1  ...     2\n",
              "2          2  ...     0\n",
              "3          3  ...     1\n",
              "4          4  ...     1\n",
              "\n",
              "[5 rows x 7 columns]"
            ]
          },
          "metadata": {},
          "execution_count": 6
        }
      ]
    },
    {
      "cell_type": "code",
      "metadata": {
        "id": "-R0Qx1ZIPldb"
      },
      "source": [
        "from keras.preprocessing.text import Tokenizer\n",
        "from keras.preprocessing.sequence import pad_sequences"
      ],
      "execution_count": 7,
      "outputs": []
    },
    {
      "cell_type": "code",
      "metadata": {
        "colab": {
          "base_uri": "https://localhost:8080/"
        },
        "id": "8ul0jtAlPoTj",
        "outputId": "ecff7f28-cf5f-404c-8c86-4b56cf750b19"
      },
      "source": [
        "df['processed_tweets'] = df['processed_tweets'].astype(str)\n",
        "x = df['processed_tweets']\n",
        "y = df['label']"
      ],
      "execution_count": 8,
      "outputs": [
        {
          "output_type": "stream",
          "name": "stderr",
          "text": [
            "/usr/local/lib/python3.7/dist-packages/ipykernel_launcher.py:1: SettingWithCopyWarning:\n",
            "\n",
            "\n",
            "A value is trying to be set on a copy of a slice from a DataFrame.\n",
            "Try using .loc[row_indexer,col_indexer] = value instead\n",
            "\n",
            "See the caveats in the documentation: https://pandas.pydata.org/pandas-docs/stable/user_guide/indexing.html#returning-a-view-versus-a-copy\n",
            "\n"
          ]
        }
      ]
    },
    {
      "cell_type": "code",
      "metadata": {
        "id": "f_QRaCmjPrcF"
      },
      "source": [
        "vocabulary_size = 20000\n",
        "tokenizer = Tokenizer(num_words= vocabulary_size)\n",
        "tokenizer.fit_on_texts(x)\n",
        "\n",
        "sequences = tokenizer.texts_to_sequences(x)\n",
        "data = pad_sequences(sequences, maxlen=50)"
      ],
      "execution_count": 9,
      "outputs": []
    },
    {
      "cell_type": "code",
      "metadata": {
        "colab": {
          "base_uri": "https://localhost:8080/"
        },
        "id": "-XzBOWKLPvv7",
        "outputId": "9ed0d307-9fbb-429a-955b-aba7a2849025"
      },
      "source": [
        "data.shape"
      ],
      "execution_count": 10,
      "outputs": [
        {
          "output_type": "execute_result",
          "data": {
            "text/plain": [
              "(139707, 50)"
            ]
          },
          "metadata": {},
          "execution_count": 10
        }
      ]
    },
    {
      "cell_type": "code",
      "metadata": {
        "id": "bsrzr5pqP0SC"
      },
      "source": [
        "from sklearn.model_selection import train_test_split as tts\n",
        "from sklearn.metrics import confusion_matrix, accuracy_score"
      ],
      "execution_count": 11,
      "outputs": []
    },
    {
      "cell_type": "code",
      "metadata": {
        "colab": {
          "base_uri": "https://localhost:8080/"
        },
        "id": "2tkpojX5P6fT",
        "outputId": "fcaaccbd-cdcc-4907-81f3-edeb4f1c2a3e"
      },
      "source": [
        "\n",
        "x_train,x_test,y_train,y_test = tts(data,y,test_size = 0.2)\n",
        "print(x_train.shape)\n",
        "print(x_test.shape)\n",
        "print(y_train.shape)\n",
        "print(y_test.shape)"
      ],
      "execution_count": 12,
      "outputs": [
        {
          "output_type": "stream",
          "name": "stdout",
          "text": [
            "(111765, 50)\n",
            "(27942, 50)\n",
            "(111765,)\n",
            "(27942,)\n"
          ]
        }
      ]
    },
    {
      "cell_type": "code",
      "metadata": {
        "id": "Dhs7KQkTP9fE"
      },
      "source": [
        "def create_conv_model():\n",
        "    model_conv = Sequential()\n",
        "    model_conv.add(Embedding(vocabulary_size, 100, input_length=50))\n",
        "    model_conv.add(Dropout(0.2))\n",
        "    model_conv.add(Conv1D(64, 5, activation='relu'))\n",
        "    model_conv.add(MaxPooling1D(pool_size=4))\n",
        "    model_conv.add(LSTM(100))\n",
        "    model_conv.add(Dense(3, activation='softmax'))\n",
        "    model_conv.compile(loss='sparse_categorical_crossentropy', optimizer='adam', metrics=['accuracy'])\n",
        "    return model_conv"
      ],
      "execution_count": 13,
      "outputs": []
    },
    {
      "cell_type": "code",
      "metadata": {
        "id": "JKV9d1-tQIw-"
      },
      "source": [
        "model_conv = create_conv_model()"
      ],
      "execution_count": 14,
      "outputs": []
    },
    {
      "cell_type": "code",
      "metadata": {
        "colab": {
          "base_uri": "https://localhost:8080/"
        },
        "id": "0jS-telFQM0z",
        "outputId": "4c374b45-a73e-4dca-b543-77707a40ffe7"
      },
      "source": [
        "model_conv.summary()"
      ],
      "execution_count": 15,
      "outputs": [
        {
          "output_type": "stream",
          "name": "stdout",
          "text": [
            "Model: \"sequential\"\n",
            "_________________________________________________________________\n",
            "Layer (type)                 Output Shape              Param #   \n",
            "=================================================================\n",
            "embedding (Embedding)        (None, 50, 100)           2000000   \n",
            "_________________________________________________________________\n",
            "dropout (Dropout)            (None, 50, 100)           0         \n",
            "_________________________________________________________________\n",
            "conv1d (Conv1D)              (None, 46, 64)            32064     \n",
            "_________________________________________________________________\n",
            "max_pooling1d (MaxPooling1D) (None, 11, 64)            0         \n",
            "_________________________________________________________________\n",
            "lstm (LSTM)                  (None, 100)               66000     \n",
            "_________________________________________________________________\n",
            "dense (Dense)                (None, 3)                 303       \n",
            "=================================================================\n",
            "Total params: 2,098,367\n",
            "Trainable params: 2,098,367\n",
            "Non-trainable params: 0\n",
            "_________________________________________________________________\n"
          ]
        }
      ]
    },
    {
      "cell_type": "code",
      "metadata": {
        "colab": {
          "base_uri": "https://localhost:8080/"
        },
        "id": "Somb5uLSQQR9",
        "outputId": "b546efd8-abdf-4263-9dca-b20234a07070"
      },
      "source": [
        "model_conv.fit(x_train, y_train, validation_split=0.2, epochs = 10)"
      ],
      "execution_count": 17,
      "outputs": [
        {
          "output_type": "stream",
          "name": "stdout",
          "text": [
            "Epoch 1/10\n",
            "2795/2795 [==============================] - 127s 45ms/step - loss: 0.4948 - accuracy: 0.8193 - val_loss: 0.4206 - val_accuracy: 0.8538\n",
            "Epoch 2/10\n",
            "2795/2795 [==============================] - 125s 45ms/step - loss: 0.3486 - accuracy: 0.8794 - val_loss: 0.4097 - val_accuracy: 0.8618\n",
            "Epoch 3/10\n",
            "2795/2795 [==============================] - 125s 45ms/step - loss: 0.2657 - accuracy: 0.9079 - val_loss: 0.4286 - val_accuracy: 0.8592\n",
            "Epoch 4/10\n",
            "2795/2795 [==============================] - 125s 45ms/step - loss: 0.2053 - accuracy: 0.9289 - val_loss: 0.4886 - val_accuracy: 0.8530\n",
            "Epoch 5/10\n",
            "2795/2795 [==============================] - 125s 45ms/step - loss: 0.1670 - accuracy: 0.9423 - val_loss: 0.5380 - val_accuracy: 0.8549\n",
            "Epoch 6/10\n",
            "2795/2795 [==============================] - 125s 45ms/step - loss: 0.1399 - accuracy: 0.9519 - val_loss: 0.5786 - val_accuracy: 0.8555\n",
            "Epoch 7/10\n",
            "2795/2795 [==============================] - 125s 45ms/step - loss: 0.1216 - accuracy: 0.9577 - val_loss: 0.6283 - val_accuracy: 0.8494\n",
            "Epoch 8/10\n",
            "2795/2795 [==============================] - 123s 44ms/step - loss: 0.1113 - accuracy: 0.9613 - val_loss: 0.6585 - val_accuracy: 0.8509\n",
            "Epoch 9/10\n",
            "2795/2795 [==============================] - 124s 44ms/step - loss: 0.1004 - accuracy: 0.9651 - val_loss: 0.7337 - val_accuracy: 0.8481\n",
            "Epoch 10/10\n",
            "2795/2795 [==============================] - 124s 44ms/step - loss: 0.0923 - accuracy: 0.9678 - val_loss: 0.7286 - val_accuracy: 0.8399\n"
          ]
        },
        {
          "output_type": "execute_result",
          "data": {
            "text/plain": [
              "<keras.callbacks.History at 0x7f9579515690>"
            ]
          },
          "metadata": {},
          "execution_count": 17
        }
      ]
    },
    {
      "cell_type": "code",
      "metadata": {
        "colab": {
          "base_uri": "https://localhost:8080/"
        },
        "id": "GCMUcLoSVNXz",
        "outputId": "bc9873ca-b97d-482a-f481-55524b270e97"
      },
      "source": [
        "model_conv.evaluate(x_test, y_test)"
      ],
      "execution_count": 18,
      "outputs": [
        {
          "output_type": "stream",
          "name": "stdout",
          "text": [
            "874/874 [==============================] - 6s 7ms/step - loss: 0.7033 - accuracy: 0.8435\n"
          ]
        },
        {
          "output_type": "execute_result",
          "data": {
            "text/plain": [
              "[0.7032945156097412, 0.8435330390930176]"
            ]
          },
          "metadata": {},
          "execution_count": 18
        }
      ]
    }
  ]
}