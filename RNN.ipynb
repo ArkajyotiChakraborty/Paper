{
  "nbformat": 4,
  "nbformat_minor": 0,
  "metadata": {
    "colab": {
      "name": "RNN.ipynb",
      "provenance": []
    },
    "kernelspec": {
      "name": "python3",
      "display_name": "Python 3"
    },
    "language_info": {
      "name": "python"
    },
    "accelerator": "GPU"
  },
  "cells": [
    {
      "cell_type": "code",
      "metadata": {
        "id": "cqHttHKrV9vE"
      },
      "source": [
        "import numpy as np\n",
        "import pandas as pd\n",
        "import matplotlib.pyplot as plt\n",
        "import seaborn as sns"
      ],
      "execution_count": 1,
      "outputs": []
    },
    {
      "cell_type": "markdown",
      "metadata": {
        "id": "o25QaFmHbBg3"
      },
      "source": [
        "Getting the Processed Dataset "
      ]
    },
    {
      "cell_type": "code",
      "metadata": {
        "colab": {
          "base_uri": "https://localhost:8080/",
          "height": 423
        },
        "id": "97uEXkrrX42C",
        "outputId": "c130391a-c42f-47d0-bf38-a829b3fd436f"
      },
      "source": [
        "df = pd.read_csv('Processed_Data.csv',lineterminator='\\n')\n",
        "df"
      ],
      "execution_count": 2,
      "outputs": [
        {
          "output_type": "execute_result",
          "data": {
            "text/html": [
              "<div>\n",
              "<style scoped>\n",
              "    .dataframe tbody tr th:only-of-type {\n",
              "        vertical-align: middle;\n",
              "    }\n",
              "\n",
              "    .dataframe tbody tr th {\n",
              "        vertical-align: top;\n",
              "    }\n",
              "\n",
              "    .dataframe thead th {\n",
              "        text-align: right;\n",
              "    }\n",
              "</style>\n",
              "<table border=\"1\" class=\"dataframe\">\n",
              "  <thead>\n",
              "    <tr style=\"text-align: right;\">\n",
              "      <th></th>\n",
              "      <th>Unnamed: 0</th>\n",
              "      <th>topic</th>\n",
              "      <th>tweet</th>\n",
              "      <th>sentiment</th>\n",
              "      <th>class</th>\n",
              "      <th>processed_tweets</th>\n",
              "    </tr>\n",
              "  </thead>\n",
              "  <tbody>\n",
              "    <tr>\n",
              "      <th>0</th>\n",
              "      <td>0</td>\n",
              "      <td>#olympics</td>\n",
              "      <td>Aussies would be happy that the T20 series hap...</td>\n",
              "      <td>0.275000</td>\n",
              "      <td>Positive</td>\n",
              "      <td>aussie would happy series happen midst olympic...</td>\n",
              "    </tr>\n",
              "    <tr>\n",
              "      <th>1</th>\n",
              "      <td>1</td>\n",
              "      <td>#olympics</td>\n",
              "      <td>The worst thing about the #Olympics finishing ...</td>\n",
              "      <td>-0.133333</td>\n",
              "      <td>Negative</td>\n",
              "      <td>worst thing olympics finish whole week availab...</td>\n",
              "    </tr>\n",
              "    <tr>\n",
              "      <th>2</th>\n",
              "      <td>2</td>\n",
              "      <td>#olympics</td>\n",
              "      <td>#Olympics\\n\\nWe play for India: #Hockey captai...</td>\n",
              "      <td>0.000000</td>\n",
              "      <td>Neutral</td>\n",
              "      <td>olympics play india hockey captain ranirampal ...</td>\n",
              "    </tr>\n",
              "    <tr>\n",
              "      <th>3</th>\n",
              "      <td>3</td>\n",
              "      <td>#olympics</td>\n",
              "      <td>See the best moments from the #Tokyo2020 closi...</td>\n",
              "      <td>1.000000</td>\n",
              "      <td>Positive</td>\n",
              "      <td>see best moment tokyo close ceremony videoelep...</td>\n",
              "    </tr>\n",
              "    <tr>\n",
              "      <th>4</th>\n",
              "      <td>4</td>\n",
              "      <td>#olympics</td>\n",
              "      <td>Fabulous! #Olympics \\n#LoveTheBBC \\n\\nTokyo Ol...</td>\n",
              "      <td>0.500000</td>\n",
              "      <td>Positive</td>\n",
              "      <td>fabulous olympics lovethebbc tokyo olympics bb...</td>\n",
              "    </tr>\n",
              "    <tr>\n",
              "      <th>...</th>\n",
              "      <td>...</td>\n",
              "      <td>...</td>\n",
              "      <td>...</td>\n",
              "      <td>...</td>\n",
              "      <td>...</td>\n",
              "      <td>...</td>\n",
              "    </tr>\n",
              "    <tr>\n",
              "      <th>140242</th>\n",
              "      <td>140242</td>\n",
              "      <td>Tokyo olympics</td>\n",
              "      <td>Congratulations to all our winners and partici...</td>\n",
              "      <td>0.500000</td>\n",
              "      <td>Positive</td>\n",
              "      <td>congratulation winner participant olympics win...</td>\n",
              "    </tr>\n",
              "    <tr>\n",
              "      <th>140243</th>\n",
              "      <td>140243</td>\n",
              "      <td>Tokyo olympics</td>\n",
              "      <td>I hope that I am wrong but I have seen no twee...</td>\n",
              "      <td>-0.500000</td>\n",
              "      <td>Negative</td>\n",
              "      <td>hope wrong see tweet government</td>\n",
              "    </tr>\n",
              "    <tr>\n",
              "      <th>140244</th>\n",
              "      <td>140244</td>\n",
              "      <td>Tokyo olympics</td>\n",
              "      <td>Tokyo passes the baton to Paris as strangest e...</td>\n",
              "      <td>0.000000</td>\n",
              "      <td>Neutral</td>\n",
              "      <td>tokyo pass baton paris strangest ever olympic ...</td>\n",
              "    </tr>\n",
              "    <tr>\n",
              "      <th>140245</th>\n",
              "      <td>140245</td>\n",
              "      <td>Tokyo olympics</td>\n",
              "      <td>Paris plans to deliver inclusive, youth-centre...</td>\n",
              "      <td>0.000000</td>\n",
              "      <td>Neutral</td>\n",
              "      <td>paris plan deliver inclusive youth centre gend...</td>\n",
              "    </tr>\n",
              "    <tr>\n",
              "      <th>140246</th>\n",
              "      <td>140246</td>\n",
              "      <td>Tokyo olympics</td>\n",
              "      <td>Tokyo Games could yet have positive legacy des...</td>\n",
              "      <td>0.413636</td>\n",
              "      <td>Positive</td>\n",
              "      <td>tokyo game could yet positive legacy despite u...</td>\n",
              "    </tr>\n",
              "  </tbody>\n",
              "</table>\n",
              "<p>140247 rows × 6 columns</p>\n",
              "</div>"
            ],
            "text/plain": [
              "        Unnamed: 0  ...                                   processed_tweets\n",
              "0                0  ...  aussie would happy series happen midst olympic...\n",
              "1                1  ...  worst thing olympics finish whole week availab...\n",
              "2                2  ...  olympics play india hockey captain ranirampal ...\n",
              "3                3  ...  see best moment tokyo close ceremony videoelep...\n",
              "4                4  ...  fabulous olympics lovethebbc tokyo olympics bb...\n",
              "...            ...  ...                                                ...\n",
              "140242      140242  ...  congratulation winner participant olympics win...\n",
              "140243      140243  ...                    hope wrong see tweet government\n",
              "140244      140244  ...  tokyo pass baton paris strangest ever olympic ...\n",
              "140245      140245  ...  paris plan deliver inclusive youth centre gend...\n",
              "140246      140246  ...  tokyo game could yet positive legacy despite u...\n",
              "\n",
              "[140247 rows x 6 columns]"
            ]
          },
          "metadata": {},
          "execution_count": 2
        }
      ]
    },
    {
      "cell_type": "code",
      "metadata": {
        "colab": {
          "base_uri": "https://localhost:8080/",
          "height": 423
        },
        "id": "QBfMcq70X-AO",
        "outputId": "cb87afbd-71bf-4290-ee07-58ac28900460"
      },
      "source": [
        "df = df.dropna()\n",
        "df"
      ],
      "execution_count": 3,
      "outputs": [
        {
          "output_type": "execute_result",
          "data": {
            "text/html": [
              "<div>\n",
              "<style scoped>\n",
              "    .dataframe tbody tr th:only-of-type {\n",
              "        vertical-align: middle;\n",
              "    }\n",
              "\n",
              "    .dataframe tbody tr th {\n",
              "        vertical-align: top;\n",
              "    }\n",
              "\n",
              "    .dataframe thead th {\n",
              "        text-align: right;\n",
              "    }\n",
              "</style>\n",
              "<table border=\"1\" class=\"dataframe\">\n",
              "  <thead>\n",
              "    <tr style=\"text-align: right;\">\n",
              "      <th></th>\n",
              "      <th>Unnamed: 0</th>\n",
              "      <th>topic</th>\n",
              "      <th>tweet</th>\n",
              "      <th>sentiment</th>\n",
              "      <th>class</th>\n",
              "      <th>processed_tweets</th>\n",
              "    </tr>\n",
              "  </thead>\n",
              "  <tbody>\n",
              "    <tr>\n",
              "      <th>0</th>\n",
              "      <td>0</td>\n",
              "      <td>#olympics</td>\n",
              "      <td>Aussies would be happy that the T20 series hap...</td>\n",
              "      <td>0.275000</td>\n",
              "      <td>Positive</td>\n",
              "      <td>aussie would happy series happen midst olympic...</td>\n",
              "    </tr>\n",
              "    <tr>\n",
              "      <th>1</th>\n",
              "      <td>1</td>\n",
              "      <td>#olympics</td>\n",
              "      <td>The worst thing about the #Olympics finishing ...</td>\n",
              "      <td>-0.133333</td>\n",
              "      <td>Negative</td>\n",
              "      <td>worst thing olympics finish whole week availab...</td>\n",
              "    </tr>\n",
              "    <tr>\n",
              "      <th>2</th>\n",
              "      <td>2</td>\n",
              "      <td>#olympics</td>\n",
              "      <td>#Olympics\\n\\nWe play for India: #Hockey captai...</td>\n",
              "      <td>0.000000</td>\n",
              "      <td>Neutral</td>\n",
              "      <td>olympics play india hockey captain ranirampal ...</td>\n",
              "    </tr>\n",
              "    <tr>\n",
              "      <th>3</th>\n",
              "      <td>3</td>\n",
              "      <td>#olympics</td>\n",
              "      <td>See the best moments from the #Tokyo2020 closi...</td>\n",
              "      <td>1.000000</td>\n",
              "      <td>Positive</td>\n",
              "      <td>see best moment tokyo close ceremony videoelep...</td>\n",
              "    </tr>\n",
              "    <tr>\n",
              "      <th>4</th>\n",
              "      <td>4</td>\n",
              "      <td>#olympics</td>\n",
              "      <td>Fabulous! #Olympics \\n#LoveTheBBC \\n\\nTokyo Ol...</td>\n",
              "      <td>0.500000</td>\n",
              "      <td>Positive</td>\n",
              "      <td>fabulous olympics lovethebbc tokyo olympics bb...</td>\n",
              "    </tr>\n",
              "    <tr>\n",
              "      <th>...</th>\n",
              "      <td>...</td>\n",
              "      <td>...</td>\n",
              "      <td>...</td>\n",
              "      <td>...</td>\n",
              "      <td>...</td>\n",
              "      <td>...</td>\n",
              "    </tr>\n",
              "    <tr>\n",
              "      <th>140242</th>\n",
              "      <td>140242</td>\n",
              "      <td>Tokyo olympics</td>\n",
              "      <td>Congratulations to all our winners and partici...</td>\n",
              "      <td>0.500000</td>\n",
              "      <td>Positive</td>\n",
              "      <td>congratulation winner participant olympics win...</td>\n",
              "    </tr>\n",
              "    <tr>\n",
              "      <th>140243</th>\n",
              "      <td>140243</td>\n",
              "      <td>Tokyo olympics</td>\n",
              "      <td>I hope that I am wrong but I have seen no twee...</td>\n",
              "      <td>-0.500000</td>\n",
              "      <td>Negative</td>\n",
              "      <td>hope wrong see tweet government</td>\n",
              "    </tr>\n",
              "    <tr>\n",
              "      <th>140244</th>\n",
              "      <td>140244</td>\n",
              "      <td>Tokyo olympics</td>\n",
              "      <td>Tokyo passes the baton to Paris as strangest e...</td>\n",
              "      <td>0.000000</td>\n",
              "      <td>Neutral</td>\n",
              "      <td>tokyo pass baton paris strangest ever olympic ...</td>\n",
              "    </tr>\n",
              "    <tr>\n",
              "      <th>140245</th>\n",
              "      <td>140245</td>\n",
              "      <td>Tokyo olympics</td>\n",
              "      <td>Paris plans to deliver inclusive, youth-centre...</td>\n",
              "      <td>0.000000</td>\n",
              "      <td>Neutral</td>\n",
              "      <td>paris plan deliver inclusive youth centre gend...</td>\n",
              "    </tr>\n",
              "    <tr>\n",
              "      <th>140246</th>\n",
              "      <td>140246</td>\n",
              "      <td>Tokyo olympics</td>\n",
              "      <td>Tokyo Games could yet have positive legacy des...</td>\n",
              "      <td>0.413636</td>\n",
              "      <td>Positive</td>\n",
              "      <td>tokyo game could yet positive legacy despite u...</td>\n",
              "    </tr>\n",
              "  </tbody>\n",
              "</table>\n",
              "<p>139715 rows × 6 columns</p>\n",
              "</div>"
            ],
            "text/plain": [
              "        Unnamed: 0  ...                                   processed_tweets\n",
              "0                0  ...  aussie would happy series happen midst olympic...\n",
              "1                1  ...  worst thing olympics finish whole week availab...\n",
              "2                2  ...  olympics play india hockey captain ranirampal ...\n",
              "3                3  ...  see best moment tokyo close ceremony videoelep...\n",
              "4                4  ...  fabulous olympics lovethebbc tokyo olympics bb...\n",
              "...            ...  ...                                                ...\n",
              "140242      140242  ...  congratulation winner participant olympics win...\n",
              "140243      140243  ...                    hope wrong see tweet government\n",
              "140244      140244  ...  tokyo pass baton paris strangest ever olympic ...\n",
              "140245      140245  ...  paris plan deliver inclusive youth centre gend...\n",
              "140246      140246  ...  tokyo game could yet positive legacy despite u...\n",
              "\n",
              "[139715 rows x 6 columns]"
            ]
          },
          "metadata": {},
          "execution_count": 3
        }
      ]
    },
    {
      "cell_type": "code",
      "metadata": {
        "id": "X2IBjXYmYETA"
      },
      "source": [
        "def ratio(x):\n",
        "  if x=='Positive':\n",
        "    return 1\n",
        "  elif x=='Negative':\n",
        "    return 2\n",
        "  else:\n",
        "    return 0;"
      ],
      "execution_count": 4,
      "outputs": []
    },
    {
      "cell_type": "code",
      "metadata": {
        "colab": {
          "base_uri": "https://localhost:8080/",
          "height": 310
        },
        "id": "WnprZegGYM_f",
        "outputId": "cebc0e28-34f0-480a-8b8d-1cc8a9c8c4c4"
      },
      "source": [
        "df['label'] = df['class'].apply(ratio)\n",
        "df.head()"
      ],
      "execution_count": 5,
      "outputs": [
        {
          "output_type": "stream",
          "name": "stderr",
          "text": [
            "/usr/local/lib/python3.7/dist-packages/ipykernel_launcher.py:1: SettingWithCopyWarning: \n",
            "A value is trying to be set on a copy of a slice from a DataFrame.\n",
            "Try using .loc[row_indexer,col_indexer] = value instead\n",
            "\n",
            "See the caveats in the documentation: https://pandas.pydata.org/pandas-docs/stable/user_guide/indexing.html#returning-a-view-versus-a-copy\n",
            "  \"\"\"Entry point for launching an IPython kernel.\n"
          ]
        },
        {
          "output_type": "execute_result",
          "data": {
            "text/html": [
              "<div>\n",
              "<style scoped>\n",
              "    .dataframe tbody tr th:only-of-type {\n",
              "        vertical-align: middle;\n",
              "    }\n",
              "\n",
              "    .dataframe tbody tr th {\n",
              "        vertical-align: top;\n",
              "    }\n",
              "\n",
              "    .dataframe thead th {\n",
              "        text-align: right;\n",
              "    }\n",
              "</style>\n",
              "<table border=\"1\" class=\"dataframe\">\n",
              "  <thead>\n",
              "    <tr style=\"text-align: right;\">\n",
              "      <th></th>\n",
              "      <th>Unnamed: 0</th>\n",
              "      <th>topic</th>\n",
              "      <th>tweet</th>\n",
              "      <th>sentiment</th>\n",
              "      <th>class</th>\n",
              "      <th>processed_tweets</th>\n",
              "      <th>label</th>\n",
              "    </tr>\n",
              "  </thead>\n",
              "  <tbody>\n",
              "    <tr>\n",
              "      <th>0</th>\n",
              "      <td>0</td>\n",
              "      <td>#olympics</td>\n",
              "      <td>Aussies would be happy that the T20 series hap...</td>\n",
              "      <td>0.275000</td>\n",
              "      <td>Positive</td>\n",
              "      <td>aussie would happy series happen midst olympic...</td>\n",
              "      <td>1</td>\n",
              "    </tr>\n",
              "    <tr>\n",
              "      <th>1</th>\n",
              "      <td>1</td>\n",
              "      <td>#olympics</td>\n",
              "      <td>The worst thing about the #Olympics finishing ...</td>\n",
              "      <td>-0.133333</td>\n",
              "      <td>Negative</td>\n",
              "      <td>worst thing olympics finish whole week availab...</td>\n",
              "      <td>2</td>\n",
              "    </tr>\n",
              "    <tr>\n",
              "      <th>2</th>\n",
              "      <td>2</td>\n",
              "      <td>#olympics</td>\n",
              "      <td>#Olympics\\n\\nWe play for India: #Hockey captai...</td>\n",
              "      <td>0.000000</td>\n",
              "      <td>Neutral</td>\n",
              "      <td>olympics play india hockey captain ranirampal ...</td>\n",
              "      <td>0</td>\n",
              "    </tr>\n",
              "    <tr>\n",
              "      <th>3</th>\n",
              "      <td>3</td>\n",
              "      <td>#olympics</td>\n",
              "      <td>See the best moments from the #Tokyo2020 closi...</td>\n",
              "      <td>1.000000</td>\n",
              "      <td>Positive</td>\n",
              "      <td>see best moment tokyo close ceremony videoelep...</td>\n",
              "      <td>1</td>\n",
              "    </tr>\n",
              "    <tr>\n",
              "      <th>4</th>\n",
              "      <td>4</td>\n",
              "      <td>#olympics</td>\n",
              "      <td>Fabulous! #Olympics \\n#LoveTheBBC \\n\\nTokyo Ol...</td>\n",
              "      <td>0.500000</td>\n",
              "      <td>Positive</td>\n",
              "      <td>fabulous olympics lovethebbc tokyo olympics bb...</td>\n",
              "      <td>1</td>\n",
              "    </tr>\n",
              "  </tbody>\n",
              "</table>\n",
              "</div>"
            ],
            "text/plain": [
              "   Unnamed: 0  ... label\n",
              "0           0  ...     1\n",
              "1           1  ...     2\n",
              "2           2  ...     0\n",
              "3           3  ...     1\n",
              "4           4  ...     1\n",
              "\n",
              "[5 rows x 7 columns]"
            ]
          },
          "metadata": {},
          "execution_count": 5
        }
      ]
    },
    {
      "cell_type": "code",
      "metadata": {
        "id": "OA21NtilYSXY"
      },
      "source": [
        "from keras.preprocessing.text import Tokenizer\n",
        "from keras.preprocessing.sequence import pad_sequences"
      ],
      "execution_count": 6,
      "outputs": []
    },
    {
      "cell_type": "code",
      "metadata": {
        "colab": {
          "base_uri": "https://localhost:8080/"
        },
        "id": "x2kRgYTGYVgo",
        "outputId": "23a6da56-2b2c-46fb-e6ee-98857a74967d"
      },
      "source": [
        "df['processed_tweets'] = df['processed_tweets'].astype(str)\n",
        "x = df['processed_tweets']\n",
        "y = df['label']"
      ],
      "execution_count": 7,
      "outputs": [
        {
          "output_type": "stream",
          "name": "stderr",
          "text": [
            "/usr/local/lib/python3.7/dist-packages/ipykernel_launcher.py:1: SettingWithCopyWarning: \n",
            "A value is trying to be set on a copy of a slice from a DataFrame.\n",
            "Try using .loc[row_indexer,col_indexer] = value instead\n",
            "\n",
            "See the caveats in the documentation: https://pandas.pydata.org/pandas-docs/stable/user_guide/indexing.html#returning-a-view-versus-a-copy\n",
            "  \"\"\"Entry point for launching an IPython kernel.\n"
          ]
        }
      ]
    },
    {
      "cell_type": "code",
      "metadata": {
        "colab": {
          "base_uri": "https://localhost:8080/"
        },
        "id": "3E2slsh5YbzV",
        "outputId": "1d22faf5-38ce-481c-892f-340d51bd8719"
      },
      "source": [
        "num_words = 8000\n",
        "embed_dim = 32\n",
        "tokenizer = Tokenizer(num_words=num_words,oov_token = \"<oov>\" )\n",
        "tokenizer.fit_on_texts(x)\n",
        "word_index=tokenizer.word_index\n",
        "sequences = tokenizer.texts_to_sequences(x)\n",
        "length=[]\n",
        "for i in sequences:\n",
        "    length.append(len(i))\n",
        "print(len(length))\n",
        "print(\"Mean is: \",np.mean(length))\n",
        "print(\"Max is: \",np.max(length))\n",
        "print(\"Min is: \",np.min(length))"
      ],
      "execution_count": 8,
      "outputs": [
        {
          "output_type": "stream",
          "name": "stdout",
          "text": [
            "139715\n",
            "Mean is:  9.298965751708836\n",
            "Max is:  24\n",
            "Min is:  1\n"
          ]
        }
      ]
    },
    {
      "cell_type": "code",
      "metadata": {
        "colab": {
          "base_uri": "https://localhost:8080/"
        },
        "id": "kn51NQGQYlVH",
        "outputId": "453b2995-460a-4f89-eaf5-9db0ffd3580d"
      },
      "source": [
        "pad_length = 24\n",
        "sequences = pad_sequences(sequences, maxlen = pad_length, truncating = 'pre', padding = 'post')\n",
        "sequences.shape"
      ],
      "execution_count": 9,
      "outputs": [
        {
          "output_type": "execute_result",
          "data": {
            "text/plain": [
              "(139715, 24)"
            ]
          },
          "metadata": {},
          "execution_count": 9
        }
      ]
    },
    {
      "cell_type": "code",
      "metadata": {
        "id": "3dmndcKVYp9q"
      },
      "source": [
        "from sklearn.model_selection import train_test_split as tts\n",
        "from sklearn.metrics import confusion_matrix, accuracy_score"
      ],
      "execution_count": 10,
      "outputs": []
    },
    {
      "cell_type": "code",
      "metadata": {
        "colab": {
          "base_uri": "https://localhost:8080/"
        },
        "id": "w-m2a-UEYvEP",
        "outputId": "2d6e2ca1-0d73-4bae-f5d2-f74af0772980"
      },
      "source": [
        "x_train,x_test,y_train,y_test = tts(sequences,y,test_size = 0.2)\n",
        "print(x_train.shape)\n",
        "print(x_test.shape)\n",
        "print(y_train.shape)\n",
        "print(y_test.shape)"
      ],
      "execution_count": 11,
      "outputs": [
        {
          "output_type": "stream",
          "name": "stdout",
          "text": [
            "(111772, 24)\n",
            "(27943, 24)\n",
            "(111772,)\n",
            "(27943,)\n"
          ]
        }
      ]
    },
    {
      "cell_type": "code",
      "metadata": {
        "id": "D0x0SA5hY2cH"
      },
      "source": [
        "from keras.layers import Dense, Embedding, Dropout , Activation, Flatten, SimpleRNN\n",
        "from keras.layers import GlobalMaxPool1D\n",
        "from keras.models import Model, Sequential\n",
        "import tensorflow as tf"
      ],
      "execution_count": 12,
      "outputs": []
    },
    {
      "cell_type": "code",
      "metadata": {
        "colab": {
          "base_uri": "https://localhost:8080/"
        },
        "id": "lEv8IENsZCeR",
        "outputId": "240bc994-8d16-4855-e964-89c1f03e4496"
      },
      "source": [
        "recall = tf.keras.metrics.Recall()\n",
        "precision = tf.keras.metrics.Precision()\n",
        "\n",
        "model = Sequential([Embedding(num_words, embed_dim, input_length = pad_length),\n",
        "                   SimpleRNN(8, return_sequences = True),\n",
        "                   GlobalMaxPool1D(),\n",
        "                   Dense(20,activation = 'relu',kernel_initializer='he_uniform'),\n",
        "                   Dropout(0.25),\n",
        "                   Dense(3,activation = 'softmax')])\n",
        "model.compile(loss='sparse_categorical_crossentropy', optimizer='adam', metrics=['accuracy'])\n",
        "model.summary()"
      ],
      "execution_count": 13,
      "outputs": [
        {
          "output_type": "stream",
          "name": "stdout",
          "text": [
            "Model: \"sequential\"\n",
            "_________________________________________________________________\n",
            "Layer (type)                 Output Shape              Param #   \n",
            "=================================================================\n",
            "embedding (Embedding)        (None, 24, 32)            256000    \n",
            "_________________________________________________________________\n",
            "simple_rnn (SimpleRNN)       (None, 24, 8)             328       \n",
            "_________________________________________________________________\n",
            "global_max_pooling1d (Global (None, 8)                 0         \n",
            "_________________________________________________________________\n",
            "dense (Dense)                (None, 20)                180       \n",
            "_________________________________________________________________\n",
            "dropout (Dropout)            (None, 20)                0         \n",
            "_________________________________________________________________\n",
            "dense_1 (Dense)              (None, 3)                 63        \n",
            "=================================================================\n",
            "Total params: 256,571\n",
            "Trainable params: 256,571\n",
            "Non-trainable params: 0\n",
            "_________________________________________________________________\n"
          ]
        }
      ]
    },
    {
      "cell_type": "markdown",
      "metadata": {
        "id": "pjVs6gD7cJuO"
      },
      "source": [
        "10 EPOCHS"
      ]
    },
    {
      "cell_type": "code",
      "metadata": {
        "colab": {
          "base_uri": "https://localhost:8080/"
        },
        "id": "gxSLv_KQZG9u",
        "outputId": "58c8dc9e-117e-4ec3-88fb-2e1db663f922"
      },
      "source": [
        "history = model.fit(x = x_train, y = y_train, epochs = 10,validation_split = 0.2)"
      ],
      "execution_count": 14,
      "outputs": [
        {
          "output_type": "stream",
          "name": "stdout",
          "text": [
            "Epoch 1/10\n",
            "2795/2795 [==============================] - 129s 45ms/step - loss: 0.5772 - accuracy: 0.7906 - val_loss: 0.4665 - val_accuracy: 0.8304\n",
            "Epoch 2/10\n",
            "2795/2795 [==============================] - 123s 44ms/step - loss: 0.4290 - accuracy: 0.8560 - val_loss: 0.3878 - val_accuracy: 0.8757\n",
            "Epoch 3/10\n",
            "2795/2795 [==============================] - 119s 43ms/step - loss: 0.3303 - accuracy: 0.8979 - val_loss: 0.3429 - val_accuracy: 0.8892\n",
            "Epoch 4/10\n",
            "2795/2795 [==============================] - 121s 43ms/step - loss: 0.2766 - accuracy: 0.9162 - val_loss: 0.3399 - val_accuracy: 0.8901\n",
            "Epoch 5/10\n",
            "2795/2795 [==============================] - 123s 44ms/step - loss: 0.2424 - accuracy: 0.9258 - val_loss: 0.3359 - val_accuracy: 0.8945\n",
            "Epoch 6/10\n",
            "2795/2795 [==============================] - 120s 43ms/step - loss: 0.2201 - accuracy: 0.9338 - val_loss: 0.3424 - val_accuracy: 0.8909\n",
            "Epoch 7/10\n",
            "2795/2795 [==============================] - 122s 44ms/step - loss: 0.2017 - accuracy: 0.9394 - val_loss: 0.3567 - val_accuracy: 0.8901\n",
            "Epoch 8/10\n",
            "2795/2795 [==============================] - 122s 44ms/step - loss: 0.1878 - accuracy: 0.9440 - val_loss: 0.3694 - val_accuracy: 0.8864\n",
            "Epoch 9/10\n",
            "2795/2795 [==============================] - 123s 44ms/step - loss: 0.1751 - accuracy: 0.9470 - val_loss: 0.3823 - val_accuracy: 0.8883\n",
            "Epoch 10/10\n",
            "2795/2795 [==============================] - 125s 45ms/step - loss: 0.1646 - accuracy: 0.9507 - val_loss: 0.3995 - val_accuracy: 0.8857\n"
          ]
        }
      ]
    },
    {
      "cell_type": "code",
      "metadata": {
        "colab": {
          "base_uri": "https://localhost:8080/"
        },
        "id": "Bd5DPEgLfF_N",
        "outputId": "0f29b966-516c-4878-db72-2ad324d15d09"
      },
      "source": [
        "model.evaluate(x_test, y_test)"
      ],
      "execution_count": 16,
      "outputs": [
        {
          "output_type": "stream",
          "name": "stdout",
          "text": [
            "874/874 [==============================] - 5s 5ms/step - loss: 0.3782 - accuracy: 0.8910\n"
          ]
        },
        {
          "output_type": "execute_result",
          "data": {
            "text/plain": [
              "[0.3781889081001282, 0.8909565806388855]"
            ]
          },
          "metadata": {},
          "execution_count": 16
        }
      ]
    }
  ]
}